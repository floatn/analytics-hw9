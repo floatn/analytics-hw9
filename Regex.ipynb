{
 "cells": [
  {
   "cell_type": "code",
   "execution_count": 52,
   "id": "3572da8a-b45d-480f-8280-e5f24660bd0c",
   "metadata": {},
   "outputs": [
    {
     "name": "stdout",
     "output_type": "stream",
     "text": [
      "([АВЕКМНОРСТУХ]\\d{3}[АВЕКМНОРСТУХ]{2})(\\d{2,3})$\n"
     ]
    }
   ],
   "source": [
    "#task1\n",
    "import re\n",
    "\n",
    "id_chars = 'АВЕКМНОРСТУХ'\n",
    "id_pattern = re.compile(f'([{id_chars}]' + r'\\d{3}' + f'[{id_chars}]' + r'{2})(\\d{2,3})$')\n",
    "print(id_pattern.pattern)\n",
    "\n",
    "def check_car_id(car_id):\n",
    "    '''Проверка транспортного номера.'''\n",
    "    match = id_pattern.match(car_id)\n",
    "    if match:\n",
    "        core, region = match.groups()\n",
    "        return f'Номер {core} валиден. Регион: {region}.'\n",
    "    else:\n",
    "        return 'Номер не валиден.'"
   ]
  },
  {
   "cell_type": "code",
   "execution_count": 54,
   "id": "6de5fee1-a882-4bc6-80b7-7bcfd8274342",
   "metadata": {},
   "outputs": [
    {
     "name": "stdout",
     "output_type": "stream",
     "text": [
      "Результат: Номер А222ВС валиден. Регион: 96.\n",
      "Результат: Номер не валиден.\n"
     ]
    }
   ],
   "source": [
    "#test_values\n",
    "car_id_test1 = 'А222ВС96' #valid_id\n",
    "car_id_test2 = 'АБ22ВВ193' #false_id\n",
    "print('Результат:', check_car_id(car_id_test1))\n",
    "print('Результат:', check_car_id(car_id_test2))"
   ]
  },
  {
   "cell_type": "code",
   "execution_count": null,
   "id": "75579761-03db-45d1-93b7-e3ad0ded123a",
   "metadata": {},
   "outputs": [],
   "source": [
    "#car_id = input('Введите транспортный номер для проверки: ')\n",
    "#print('Результат:', check_car_id(car_id))"
   ]
  },
  {
   "cell_type": "code",
   "execution_count": 97,
   "id": "648c14c7-d8ce-44cd-b4cd-b88f09c598c4",
   "metadata": {},
   "outputs": [
    {
     "name": "stdout",
     "output_type": "stream",
     "text": [
      "Напишите функцию, которая будет удалять все последовательные повторы слов из заданной строки при помощи регулярных выражений\n"
     ]
    }
   ],
   "source": [
    "#task2\n",
    "some_string = \\\n",
    "'Напишите функцию функцию, которая будет будет будет будет удалять все все все все последовательные повторы слов '\\\n",
    "'из из из из заданной строки строки при помощи регулярных выражений'\n",
    "\n",
    "some_pattern = re.compile(r'(\\b\\w+\\b)(\\s+\\1)+')\n",
    "print(some_pattern.sub(r'\\1', some_string))"
   ]
  }
 ],
 "metadata": {
  "kernelspec": {
   "display_name": "Python 3 (ipykernel)",
   "language": "python",
   "name": "python3"
  },
  "language_info": {
   "codemirror_mode": {
    "name": "ipython",
    "version": 3
   },
   "file_extension": ".py",
   "mimetype": "text/x-python",
   "name": "python",
   "nbconvert_exporter": "python",
   "pygments_lexer": "ipython3",
   "version": "3.12.7"
  }
 },
 "nbformat": 4,
 "nbformat_minor": 5
}
